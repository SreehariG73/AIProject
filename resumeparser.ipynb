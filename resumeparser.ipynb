{
 "cells": [
  {
   "cell_type": "code",
   "execution_count": 14,
   "metadata": {},
   "outputs": [],
   "source": [
    "import spacy\n",
    "import pickle\n",
    "import random\n",
    "from spacy.matcher import Matcher\n",
    "from spacy.tokens import Span\n",
    "import pandas as pd\n",
    "import os\n",
    "import pdfplumber"
   ]
  },
  {
   "cell_type": "code",
   "execution_count": 15,
   "metadata": {},
   "outputs": [],
   "source": [
    "nlp = spacy.load(\"en_core_web_sm\")"
   ]
  },
  {
   "cell_type": "code",
   "execution_count": 16,
   "metadata": {},
   "outputs": [],
   "source": [
    "def parse_resume(resume_file):\n",
    "    with pdfplumber.open(resume_file) as pdf:\n",
    "        resume_text = \"\"\n",
    "        for page in pdf.pages:\n",
    "            resume_text += page.extract_text()\n",
    "    resume_doc = nlp(resume_text)\n",
    "    return resume_doc"
   ]
  },
  {
   "cell_type": "code",
   "execution_count": 17,
   "metadata": {},
   "outputs": [],
   "source": [
    "# Define the pattern for matching skills\n",
    "skill_pattern = [{\"LOWER\": {\"IN\": [\"python\", \"java\", \"c++\", \"machine learning\", \"data analysis\", \"teamwork\"]}}]\n",
    "\n",
    "# Add the skill matcher to the SpaCy pipeline\n",
    "matcher = Matcher(nlp.vocab)\n",
    "matcher.add(\"SKILL_PATTERN\", [skill_pattern])"
   ]
  },
  {
   "cell_type": "code",
   "execution_count": 18,
   "metadata": {},
   "outputs": [],
   "source": [
    "resume_directory = \"/Users/sreehariguruprasad/myprojects/AI Project/resume dataset/data/data/INFORMATION-TECHNOLOGY\"\n",
    "resume_files = os.listdir(resume_directory)"
   ]
  },
  {
   "cell_type": "code",
   "execution_count": 19,
   "metadata": {},
   "outputs": [],
   "source": [
    "parsed_resumes = []\n",
    "for resume_file in resume_files:\n",
    "    if resume_file.endswith(\".pdf\"):\n",
    "        resume_doc = parse_resume(os.path.join(resume_directory, resume_file))\n",
    "        \n",
    "        # Apply the skill matcher to the resume document\n",
    "        matches = matcher(resume_doc)\n",
    "        \n",
    "        # Extract matched skills\n",
    "        matched_skills = [resume_doc[start:end].text for match_id, start, end in matches]\n",
    "        \n",
    "        parsed_resumes.append({\"file_name\": resume_file, \"skills\": matched_skills})\n",
    "\n",
    "# Convert parsed resumes to DataFrame for further analysis\n",
    "parsed_resumes_df = pd.DataFrame(parsed_resumes)\n",
    "\n",
    "# Save the parsed resumes DataFrame to a CSV file\n",
    "parsed_resumes_df.to_csv(\"parsed_resumes.csv\", index=False)"
   ]
  }
 ],
 "metadata": {
  "kernelspec": {
   "display_name": "base",
   "language": "python",
   "name": "python3"
  },
  "language_info": {
   "codemirror_mode": {
    "name": "ipython",
    "version": 3
   },
   "file_extension": ".py",
   "mimetype": "text/x-python",
   "name": "python",
   "nbconvert_exporter": "python",
   "pygments_lexer": "ipython3",
   "version": "3.9.13"
  }
 },
 "nbformat": 4,
 "nbformat_minor": 2
}
